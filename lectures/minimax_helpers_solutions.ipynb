{
 "cells": [
  {
   "cell_type": "code",
   "execution_count": null,
   "metadata": {},
   "outputs": [],
   "source": [
    "def min_value(gameState):\n",
    "    \"\"\" Return the game state utility if the game is over,\n",
    "    otherwise return the minimum value over all legal successors\n",
    "    \"\"\"\n",
    "    if gameState.terminal_test():\n",
    "        return gameState.utility(0)\n",
    "    v = float(\"inf\")\n",
    "    for a in gameState.actions():\n",
    "        v = min(v, max_value(gameState.result(a)))\n",
    "    return v\n",
    "\n",
    "\n",
    "def max_value(gameState):\n",
    "    \"\"\" Return the game state utility if the game is over,\n",
    "    otherwise return the maximum value over all legal successors\n",
    "    \"\"\"\n",
    "    if gameState.terminal_test():\n",
    "        return gameState.utility(0)\n",
    "    v = float(\"-inf\")\n",
    "    for a in gameState.actions():\n",
    "        v = max(v, min_value(gameState.result(a)))\n",
    "    return v\n"
   ]
  }
 ],
 "metadata": {
  "kernelspec": {
   "display_name": "Python 3",
   "language": "python",
   "name": "python3"
  },
  "language_info": {
   "codemirror_mode": {
    "name": "ipython",
    "version": 3
   },
   "file_extension": ".py",
   "mimetype": "text/x-python",
   "name": "python",
   "nbconvert_exporter": "python",
   "pygments_lexer": "ipython3",
   "version": "3.6.3"
  }
 },
 "nbformat": 4,
 "nbformat_minor": 2
}
